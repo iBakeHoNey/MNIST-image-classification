{
  "nbformat": 4,
  "nbformat_minor": 0,
  "metadata": {
    "colab": {
      "provenance": []
    },
    "kernelspec": {
      "name": "python3",
      "display_name": "Python 3"
    },
    "language_info": {
      "name": "python"
    },
    "gpuClass": "premium"
  },
  "cells": [
    {
      "cell_type": "markdown",
      "source": [
        "Train Model A: Fully Connected Layers\n",
        "\n",
        "Below are the steps to perform image classification on the MNIST dataset using only fully connected layers in Google Colab:\n",
        "\n",
        "We need to install the required libraries, such as TensorFlow and Keras, by running the following code in a code cell:\n"
      ],
      "metadata": {
        "id": "UcBH8t4dEobt"
      }
    },
    {
      "cell_type": "code",
      "execution_count": null,
      "metadata": {
        "id": "2aj5B7nUEPDE"
      },
      "outputs": [],
      "source": [
        "!pip install tensorflow\n",
        "!pip install keras"
      ]
    },
    {
      "cell_type": "code",
      "source": [
        "!pip install keras-applications"
      ],
      "metadata": {
        "id": "zaCAIOlMhQTC"
      },
      "execution_count": null,
      "outputs": []
    },
    {
      "cell_type": "code",
      "source": [
        "import tensorflow as tf\n",
        "import numpy as np\n",
        "import matplotlib.pyplot as plt\n",
        "from tensorflow import keras\n",
        "import cv2"
      ],
      "metadata": {
        "id": "-ot78s6TTtXE"
      },
      "execution_count": null,
      "outputs": []
    },
    {
      "cell_type": "markdown",
      "source": [
        "1. Load the MNIST dataset using Keras:"
      ],
      "metadata": {
        "id": "VxjMf6KV59zQ"
      }
    },
    {
      "cell_type": "code",
      "source": [
        "from keras.datasets import mnist\n",
        "(X_train_FC, y_train_FC), (X_test_FC, y_test_FC) = mnist.load_data()\n"
      ],
      "metadata": {
        "id": "GrTks3fLEcYf",
        "colab": {
          "base_uri": "https://localhost:8080/"
        },
        "outputId": "8205f790-aca1-4816-9af4-158391fc34ff"
      },
      "execution_count": null,
      "outputs": [
        {
          "output_type": "stream",
          "name": "stdout",
          "text": [
            "Downloading data from https://storage.googleapis.com/tensorflow/tf-keras-datasets/mnist.npz\n",
            "11490434/11490434 [==============================] - 0s 0us/step\n"
          ]
        }
      ]
    },
    {
      "cell_type": "markdown",
      "source": [
        "2. Preprocess the data by reshaping the image arrays and normalizing the pixel values:"
      ],
      "metadata": {
        "id": "yeMVlEkpEuw8"
      }
    },
    {
      "cell_type": "code",
      "source": [
        "X_train_FC = X_train_FC.reshape(-1, 784) / 255.0\n",
        "X_test_FC = X_test_FC.reshape(-1, 784) / 255.0\n"
      ],
      "metadata": {
        "id": "43KGsd3wEdmd"
      },
      "execution_count": null,
      "outputs": []
    },
    {
      "cell_type": "markdown",
      "source": [
        "3. One-hot encode the target labels:"
      ],
      "metadata": {
        "id": "T7UIuKybExRX"
      }
    },
    {
      "cell_type": "code",
      "source": [
        "from keras.utils import to_categorical\n",
        "y_train_FC = to_categorical(y_train_FC, 10)\n",
        "y_test_FC = to_categorical(y_test_FC, 10)\n",
        "\n",
        "print(\"Training data shape: \", X_train_FC.shape)\n",
        "print(\"Training labels shape: \", y_train_FC.shape)\n",
        "print(\"Test data shape: \", X_test_FC.shape)\n",
        "print(\"Test labels shape: \", y_test_FC.shape)"
      ],
      "metadata": {
        "id": "wskZ69bMEd94",
        "colab": {
          "base_uri": "https://localhost:8080/"
        },
        "outputId": "ca5eac6b-feaf-4623-9722-2ff139dbcd08"
      },
      "execution_count": null,
      "outputs": [
        {
          "output_type": "stream",
          "name": "stdout",
          "text": [
            "Training data shape:  (60000, 784)\n",
            "Training labels shape:  (60000, 10)\n",
            "Test data shape:  (10000, 784)\n",
            "Test labels shape:  (10000, 10)\n"
          ]
        }
      ]
    },
    {
      "cell_type": "markdown",
      "source": [
        "4. Define the model architecture using a sequential model and dense layers:"
      ],
      "metadata": {
        "id": "dbvAtNMlEzmO"
      }
    },
    {
      "cell_type": "code",
      "source": [
        "from keras.models import Sequential\n",
        "from keras.layers import Dense\n",
        "\n",
        "model_FC = Sequential()\n",
        "model_FC.add(Dense(512, activation='relu', input_shape=(784,)))\n",
        "model_FC.add(Dense(256, activation='relu'))\n",
        "model_FC.add(Dense(10, activation='softmax'))\n",
        "model_FC.summary()"
      ],
      "metadata": {
        "id": "pOBJFovPEnfE",
        "colab": {
          "base_uri": "https://localhost:8080/"
        },
        "outputId": "b038041b-ace6-4ed3-fc79-3da662ff4ca7"
      },
      "execution_count": null,
      "outputs": [
        {
          "output_type": "stream",
          "name": "stdout",
          "text": [
            "Model: \"sequential\"\n",
            "_________________________________________________________________\n",
            " Layer (type)                Output Shape              Param #   \n",
            "=================================================================\n",
            " dense (Dense)               (None, 512)               401920    \n",
            "                                                                 \n",
            " dense_1 (Dense)             (None, 256)               131328    \n",
            "                                                                 \n",
            " dense_2 (Dense)             (None, 10)                2570      \n",
            "                                                                 \n",
            "=================================================================\n",
            "Total params: 535,818\n",
            "Trainable params: 535,818\n",
            "Non-trainable params: 0\n",
            "_________________________________________________________________\n"
          ]
        }
      ]
    },
    {
      "cell_type": "markdown",
      "source": [
        "5. Compile the model with a suitable loss function, optimizer, and metrics:"
      ],
      "metadata": {
        "id": "xrjgTjChE9GE"
      }
    },
    {
      "cell_type": "code",
      "source": [
        "model_FC.compile(loss='categorical_crossentropy',\n",
        "                 optimizer='adam',\n",
        "                 metrics=['accuracy'])\n"
      ],
      "metadata": {
        "id": "d7z3fZAbE9hQ"
      },
      "execution_count": null,
      "outputs": []
    },
    {
      "cell_type": "markdown",
      "source": [
        "6. Train the model using the fit method:"
      ],
      "metadata": {
        "id": "ebNQ82WxE_fn"
      }
    },
    {
      "cell_type": "code",
      "source": [
        "history = model_FC.fit(X_train_FC, y_train_FC, batch_size=128, epochs=10,\n",
        "                       validation_data=(X_test_FC, y_test_FC))\n"
      ],
      "metadata": {
        "colab": {
          "base_uri": "https://localhost:8080/"
        },
        "id": "H-lPpFiNFBY3",
        "outputId": "ad5469ac-6a62-4ab3-cc88-681a677590f5"
      },
      "execution_count": null,
      "outputs": [
        {
          "output_type": "stream",
          "name": "stdout",
          "text": [
            "Epoch 1/10\n",
            "469/469 [==============================] - 22s 43ms/step - loss: 0.2279 - accuracy: 0.9327 - val_loss: 0.1106 - val_accuracy: 0.9667\n",
            "Epoch 2/10\n",
            "469/469 [==============================] - 14s 31ms/step - loss: 0.0815 - accuracy: 0.9755 - val_loss: 0.0775 - val_accuracy: 0.9754\n",
            "Epoch 3/10\n",
            "469/469 [==============================] - 13s 27ms/step - loss: 0.0519 - accuracy: 0.9844 - val_loss: 0.0728 - val_accuracy: 0.9759\n",
            "Epoch 4/10\n",
            "469/469 [==============================] - 13s 27ms/step - loss: 0.0355 - accuracy: 0.9892 - val_loss: 0.0766 - val_accuracy: 0.9764\n",
            "Epoch 5/10\n",
            "469/469 [==============================] - 15s 33ms/step - loss: 0.0269 - accuracy: 0.9914 - val_loss: 0.0726 - val_accuracy: 0.9792\n",
            "Epoch 6/10\n",
            "469/469 [==============================] - 11s 23ms/step - loss: 0.0222 - accuracy: 0.9926 - val_loss: 0.0721 - val_accuracy: 0.9800\n",
            "Epoch 7/10\n",
            "469/469 [==============================] - 14s 30ms/step - loss: 0.0182 - accuracy: 0.9940 - val_loss: 0.0794 - val_accuracy: 0.9786\n",
            "Epoch 8/10\n",
            "469/469 [==============================] - 15s 33ms/step - loss: 0.0145 - accuracy: 0.9953 - val_loss: 0.0764 - val_accuracy: 0.9814\n",
            "Epoch 9/10\n",
            "469/469 [==============================] - 12s 25ms/step - loss: 0.0155 - accuracy: 0.9947 - val_loss: 0.0718 - val_accuracy: 0.9802\n",
            "Epoch 10/10\n",
            "469/469 [==============================] - 12s 26ms/step - loss: 0.0139 - accuracy: 0.9954 - val_loss: 0.0718 - val_accuracy: 0.9844\n"
          ]
        }
      ]
    },
    {
      "cell_type": "markdown",
      "source": [
        "7. Evaluate the model on the test data and show the results:"
      ],
      "metadata": {
        "id": "MOHJI6CKFDAG"
      }
    },
    {
      "cell_type": "code",
      "source": [
        "train_loss_FC, train_accuracy_FC = model_FC.evaluate(X_train_FC, y_train_FC)\n",
        "test_loss_FC, test_accuracy_FC = model_FC.evaluate(X_test_FC, y_test_FC)\n",
        "print('Train Loss:', train_loss_FC)\n",
        "print('Train Accuracy:', train_accuracy_FC)\n",
        "print('Test Loss:', test_loss_FC)\n",
        "print('Test Accuracy:', test_accuracy_FC)"
      ],
      "metadata": {
        "colab": {
          "base_uri": "https://localhost:8080/"
        },
        "id": "t0GmExGlFE6A",
        "outputId": "ec1a1dc4-6e36-42e7-c924-f05785c3f7c0"
      },
      "execution_count": null,
      "outputs": [
        {
          "output_type": "stream",
          "name": "stdout",
          "text": [
            "1875/1875 [==============================] - 27s 14ms/step - loss: 0.0050 - accuracy: 0.9985\n",
            "313/313 [==============================] - 1s 5ms/step - loss: 0.0718 - accuracy: 0.9844\n",
            "Train Loss: 0.005000327248126268\n",
            "Train Accuracy: 0.998533308506012\n",
            "Test Loss: 0.07183941453695297\n",
            "Test Accuracy: 0.9843999743461609\n"
          ]
        }
      ]
    },
    {
      "cell_type": "code",
      "source": [
        "history.history['val_accuracy']"
      ],
      "metadata": {
        "colab": {
          "base_uri": "https://localhost:8080/"
        },
        "id": "hrO-SsaXR0p2",
        "outputId": "e58bacc3-48a1-4495-b69a-7a62b0e27187"
      },
      "execution_count": null,
      "outputs": [
        {
          "output_type": "execute_result",
          "data": {
            "text/plain": [
              "[0.96670001745224,\n",
              " 0.9753999710083008,\n",
              " 0.9758999943733215,\n",
              " 0.9764000177383423,\n",
              " 0.979200005531311,\n",
              " 0.9800000190734863,\n",
              " 0.978600025177002,\n",
              " 0.9814000129699707,\n",
              " 0.9801999926567078,\n",
              " 0.9843999743461609]"
            ]
          },
          "metadata": {},
          "execution_count": 18
        }
      ]
    },
    {
      "cell_type": "markdown",
      "source": [
        "Graph Plotting to show performance of FC models "
      ],
      "metadata": {
        "id": "CseA-VmLRMdx"
      }
    },
    {
      "cell_type": "code",
      "source": [
        "fig = plt.figure(figsize=(15,4))\n",
        "\n",
        "fig.add_subplot(121)\n",
        "plt.plot(history.history['accuracy'])\n",
        "plt.plot(history.history['val_accuracy'])\n",
        "plt.legend(['Training accuracy', 'Validation accuracy'])\n",
        "plt.title('Training and validation accuracy: FC')\n",
        "plt.xlabel('Epoch Number')\n",
        "plt.ylabel('Accuracy')\n",
        "\n",
        "fig.add_subplot(122)\n",
        "plt.plot(history.history['loss'])\n",
        "plt.plot(history.history['val_loss'])\n",
        "plt.legend(['Training loss', 'Validation loss'])\n",
        "plt.title('Training and validation loss: FC')\n",
        "plt.xlabel('Epoch Number')\n",
        "plt.ylabel('Loss')\n",
        "plt.show()"
      ],
      "metadata": {
        "colab": {
          "base_uri": "https://localhost:8080/",
          "height": 295
        },
        "id": "ar0G1pQCEi8E",
        "outputId": "98742d75-9fd8-4fd9-dc6e-a3e63a70195e"
      },
      "execution_count": null,
      "outputs": [
        {
          "output_type": "display_data",
          "data": {
            "text/plain": [
              "<Figure size 1080x288 with 2 Axes>"
            ],
            "image/png": "[encoded data removed]"
          },
          "metadata": {
            "needs_background": "light"
          }
        }
      ]
    },
    {
      "cell_type": "markdown",
      "source": [
        "Confusion Matrix for FC"
      ],
      "metadata": {
        "id": "ufq0o0A4LjG-"
      }
    },
    {
      "cell_type": "code",
      "source": [
        "import itertools\n",
        "import matplotlib.pyplot as plt\n",
        "from sklearn.metrics import confusion_matrix\n",
        "from sklearn.metrics import precision_score, recall_score, f1_score"
      ],
      "metadata": {
        "id": "Uh4CHJnCVWtb"
      },
      "execution_count": null,
      "outputs": []
    },
    {
      "cell_type": "code",
      "source": [
        "# Get predictions\n",
        "y_predict_FC = model_FC.predict(X_test_FC)\n",
        "y_predict_FC = np.argmax(y_predict_FC, axis=1)\n",
        "\n",
        "# Extract true class labels from one-hot encoded array\n",
        "y_true_FC = np.argmax(y_test_FC, axis=1)\n",
        "\n",
        "# Compute the confusion matrix\n",
        "cm = confusion_matrix(y_true_FC, y_predict_FC)"
      ],
      "metadata": {
        "colab": {
          "base_uri": "https://localhost:8080/"
        },
        "id": "QItcjelDNAU8",
        "outputId": "20638f69-d0ec-41ad-bb0b-9e68805f9c64"
      },
      "execution_count": null,
      "outputs": [
        {
          "output_type": "stream",
          "name": "stdout",
          "text": [
            "313/313 [==============================] - 6s 19ms/step\n"
          ]
        }
      ]
    },
    {
      "cell_type": "code",
      "source": [
        "# Calculate accuracy\n",
        "accuracy = np.trace(cm) / float(np.sum(cm))\n",
        "\n",
        "# Calculate precision\n",
        "precision = precision_score(y_true_FC, y_predict_FC, average='macro')\n",
        "\n",
        "# Calculate recall\n",
        "recall = recall_score(y_true_FC, y_predict_FC, average='macro')"
      ],
      "metadata": {
        "id": "cnrh4kYRNTf6"
      },
      "execution_count": null,
      "outputs": []
    },
    {
      "cell_type": "markdown",
      "source": [
        "Print Performance Parameters"
      ],
      "metadata": {
        "id": "fpcMkSYcNlgZ"
      }
    },
    {
      "cell_type": "code",
      "source": [
        "print(\"Accuracy: {:.4f}%\".format(accuracy * 100))\n",
        "print(\"Precision: {:.4f}%\".format(precision * 100))\n",
        "print(\"Recall: {:.4f}%\".format(recall * 100))"
      ],
      "metadata": {
        "colab": {
          "base_uri": "https://localhost:8080/"
        },
        "id": "dad5k-6ENhXW",
        "outputId": "aaeeec4e-ed7f-4b02-ebcb-a09249b11e1e"
      },
      "execution_count": null,
      "outputs": [
        {
          "output_type": "stream",
          "name": "stdout",
          "text": [
            "Accuracy: 98.4400%\n",
            "Precision: 98.4296%\n",
            "Recall: 98.4354%\n"
          ]
        }
      ]
    },
    {
      "cell_type": "code",
      "source": [
        "# Plot the confusion matrix\n",
        "plt.figure(figsize=(10, 10))\n",
        "plt.imshow(cm, cmap=plt.cm.Blues)\n",
        "plt.colorbar()\n",
        "tick_marks = np.arange(10)\n",
        "plt.xticks(tick_marks, [str(i) for i in range(10)], rotation=45)\n",
        "plt.yticks(tick_marks, [str(i) for i in range(10)])\n",
        "thresh = cm.max() / 2.\n",
        "for i, j in itertools.product(range(cm.shape[0]), range(cm.shape[1])):\n",
        "    plt.text(j, i, cm[i, j],\n",
        "             horizontalalignment=\"center\",\n",
        "             color=\"white\" if cm[i, j] > thresh else \"black\")\n",
        "plt.xlabel('Predicted label')\n",
        "plt.ylabel('True label')\n",
        "plt.title('Confusion Matrix: FC')\n",
        "plt.show()"
      ],
      "metadata": {
        "colab": {
          "base_uri": "https://localhost:8080/",
          "height": 580
        },
        "id": "h9sP7LT3LoVz",
        "outputId": "4aa788b3-b886-439d-d4e4-dcaa35c19def"
      },
      "execution_count": null,
      "outputs": [
        {
          "output_type": "display_data",
          "data": {
            "text/plain": [
              "<Figure size 720x720 with 2 Axes>"
            ],
            "image/png": "[encoded data removed]"
          },
          "metadata": {
            "needs_background": "light"
          }
        }
      ]
    }
  ]
}